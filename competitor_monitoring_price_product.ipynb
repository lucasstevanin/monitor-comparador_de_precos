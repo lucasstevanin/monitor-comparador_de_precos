{
 "cells": [
  {
   "cell_type": "code",
   "execution_count": 1,
   "id": "bb7f1628",
   "metadata": {},
   "outputs": [],
   "source": [
    "import pandas as pd\n",
    "from selenium import webdriver\n",
    "from webdriver_manager.chrome import ChromeDriverManager"
   ]
  },
  {
   "cell_type": "code",
   "execution_count": 90,
   "id": "fd8692e6",
   "metadata": {},
   "outputs": [
    {
     "name": "stderr",
     "output_type": "stream",
     "text": [
      "C:\\Users\\lukin\\AppData\\Local\\Temp\\ipykernel_16100\\1503906442.py:1: DeprecationWarning: executable_path has been deprecated, please pass in a Service object\n",
      "  driver = webdriver.Chrome(ChromeDriverManager().install())\n"
     ]
    }
   ],
   "source": [
    "driver = webdriver.Chrome(ChromeDriverManager().install())"
   ]
  },
  {
   "cell_type": "code",
   "execution_count": 98,
   "id": "cb1a8ff7",
   "metadata": {},
   "outputs": [
    {
     "name": "stdout",
     "output_type": "stream",
     "text": [
      "Concluido\n"
     ]
    }
   ],
   "source": [
    "df = pd.read_excel(\"products_price.xlsx\")\n",
    "links = df[\"Link\"]\n",
    "df = df.rename(columns={'Amazon': 'Kabum'})\n",
    "\n",
    "# remove as vírgulas e os números após a vírgula na coluna 'Kabum'\n",
    "# df[\"Kabum\"] = df[\"Kabum\"].apply(lambda x: x.replace(\".\", \"\").split(',')[0])\n",
    "\n",
    "df[[\"Your Price\", \"Kabum\"]] = df[[\"Your Price\", \"Kabum\"]].astype(float)\n",
    "# df[\"Kabum\"] = df[\"Kabum\"].apply(lambda x: x.replace(\".\", \"\").split(',')[0])\n",
    "\n",
    "for i, row in df.iterrows():\n",
    "    url = row[\"Link\"]\n",
    "    response = driver.get(url)\n",
    "    \n",
    "    #NOME DO PRODUTO\n",
    "    nome_produto = driver.find_element(\"class name\",\"gQusXy\").text\n",
    "    df.at[i, \"Product Name\"] = nome_produto\n",
    "    \n",
    "    #PREÇO DO PRODUTO\n",
    "    preco_produto = driver.find_element(\"class name\", \"finalPrice\").text.replace(\"R$\", \"\").replace(\".\", \"\").split(',')[0]\n",
    "    preco_produto_float = float(preco_produto)\n",
    "    df.at[i, \"Kabum\"] = preco_produto_float\n",
    "    \n",
    "#     df.info()\n",
    "   # compara os valores das colunas 'coluna1' e 'coluna2' e atribui 1 na coluna 'coluna3' se o valor de 'coluna2' for maior\n",
    "    df['Competitive'] = df.apply(lambda row: 1 if row['Kabum'] > row['Your Price'] else 0, axis=1)\n",
    "\n",
    "\n",
    "df.to_excel(\"products_price.xlsx\", index=False)\n",
    "\n",
    "# display(tabela)\n",
    "print(\"Concluido\")"
   ]
  },
  {
   "cell_type": "code",
   "execution_count": 99,
   "id": "8d9433a0",
   "metadata": {},
   "outputs": [
    {
     "data": {
      "text/html": [
       "<div>\n",
       "<style scoped>\n",
       "    .dataframe tbody tr th:only-of-type {\n",
       "        vertical-align: middle;\n",
       "    }\n",
       "\n",
       "    .dataframe tbody tr th {\n",
       "        vertical-align: top;\n",
       "    }\n",
       "\n",
       "    .dataframe thead th {\n",
       "        text-align: right;\n",
       "    }\n",
       "</style>\n",
       "<table border=\"1\" class=\"dataframe\">\n",
       "  <thead>\n",
       "    <tr style=\"text-align: right;\">\n",
       "      <th></th>\n",
       "      <th>Product Name</th>\n",
       "      <th>Link</th>\n",
       "      <th>Your Price</th>\n",
       "      <th>Kabum</th>\n",
       "      <th>Competitive</th>\n",
       "    </tr>\n",
       "  </thead>\n",
       "  <tbody>\n",
       "    <tr>\n",
       "      <th>0</th>\n",
       "      <td>Monitor Gamer Husky Tempest 34' VA, Ultrawide,...</td>\n",
       "      <td>https://www.kabum.com.br/produto/135276/monito...</td>\n",
       "      <td>2800.0</td>\n",
       "      <td>2399.0</td>\n",
       "      <td>0</td>\n",
       "    </tr>\n",
       "    <tr>\n",
       "      <th>1</th>\n",
       "      <td>Monitor Gamer LG 34 LED Ultra Wide Curvo, 160 ...</td>\n",
       "      <td>https://www.kabum.com.br/produto/364836/monito...</td>\n",
       "      <td>1800.0</td>\n",
       "      <td>2199.0</td>\n",
       "      <td>1</td>\n",
       "    </tr>\n",
       "  </tbody>\n",
       "</table>\n",
       "</div>"
      ],
      "text/plain": [
       "                                        Product Name  \\\n",
       "0  Monitor Gamer Husky Tempest 34' VA, Ultrawide,...   \n",
       "1  Monitor Gamer LG 34 LED Ultra Wide Curvo, 160 ...   \n",
       "\n",
       "                                                Link  Your Price   Kabum  \\\n",
       "0  https://www.kabum.com.br/produto/135276/monito...      2800.0  2399.0   \n",
       "1  https://www.kabum.com.br/produto/364836/monito...      1800.0  2199.0   \n",
       "\n",
       "   Competitive  \n",
       "0            0  \n",
       "1            1  "
      ]
     },
     "metadata": {},
     "output_type": "display_data"
    }
   ],
   "source": [
    "display(df)"
   ]
  },
  {
   "cell_type": "code",
   "execution_count": null,
   "id": "a998cb16",
   "metadata": {},
   "outputs": [],
   "source": []
  },
  {
   "cell_type": "code",
   "execution_count": null,
   "id": "ddbeb552",
   "metadata": {},
   "outputs": [],
   "source": []
  }
 ],
 "metadata": {
  "kernelspec": {
   "display_name": "Python 3 (ipykernel)",
   "language": "python",
   "name": "python3"
  },
  "language_info": {
   "codemirror_mode": {
    "name": "ipython",
    "version": 3
   },
   "file_extension": ".py",
   "mimetype": "text/x-python",
   "name": "python",
   "nbconvert_exporter": "python",
   "pygments_lexer": "ipython3",
   "version": "3.10.9"
  }
 },
 "nbformat": 4,
 "nbformat_minor": 5
}
